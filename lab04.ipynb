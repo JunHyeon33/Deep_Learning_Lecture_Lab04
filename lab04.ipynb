{
  "nbformat": 4,
  "nbformat_minor": 0,
  "metadata": {
    "accelerator": "GPU",
    "colab": {
      "provenance": []
    },
    "kernelspec": {
      "display_name": "Python 3",
      "name": "python3"
    },
    "gpuClass": "standard"
  },
  "cells": [
    {
      "cell_type": "markdown",
      "metadata": {
        "id": "xrUqXYEepD0o"
      },
      "source": [
        "#### <b>GAN 실습</b>\n",
        "\n",
        "* 논문 제목: Generative Adversarial Networks <b>(NIPS 2014)</b>\n",
        "* 가장 기본적인 GAN 모델을 학습해보는 실습을 진행합니다.\n",
        "* 학습 데이터셋: <b>MNIST</b> (1 X 28 X 28)"
      ]
    },
    {
      "cell_type": "markdown",
      "metadata": {
        "id": "UEx96DYOpdAK"
      },
      "source": [
        "#### <b>필요한 라이브러리 불러오기</b>\n",
        "\n",
        "* 실습을 위한 PyTorch 라이브러리를 불러옵니다."
      ]
    },
    {
      "cell_type": "code",
      "metadata": {
        "id": "CiRb7M3naHyo"
      },
      "source": [
        "\n",
        "import torch\n",
        "import torch.nn as nn\n",
        "\n",
        "from torchvision import datasets\n",
        "import torchvision.transforms as transforms\n",
        "from torchvision.utils import save_image\n",
        "import os\n",
        "\n",
        "os.makedirs('_saved_models', exist_ok=True)"
      ],
      "execution_count": 21,
      "outputs": []
    },
    {
      "cell_type": "markdown",
      "metadata": {
        "id": "tp4hbA95pihv"
      },
      "source": [
        "#### <b>생성자(Generator) 및 판별자(Discriminator) 모델 정의</b>"
      ]
    },
    {
      "cell_type": "code",
      "metadata": {
        "id": "Hj5al6cTZES1"
      },
      "source": [
        "latent_dim = 100\n",
        "\n",
        "\n",
        "# 생성자(Generator) 클래스 정의\n",
        "class Generator(nn.Module):\n",
        "    def __init__(self, in_channels=1, out_channels=1):\n",
        "        super(Generator, self).__init__()\n",
        "\n",
        "        # First layer\n",
        "        self.conv1 = nn.Sequential(nn.Conv2d(in_channels, 2, kernel_size=3, stride=1, padding=1), nn.ReLU())\n",
        "        self.conv2 = nn.Sequential(nn.Conv2d(2, 4, kernel_size=3, stride=1, padding=1), nn.ReLU())\n",
        "        self.conv3 = nn.Sequential(nn.Conv2d(4, 8, kernel_size=3, stride=1, padding=1), nn.ReLU())\n",
        "        self.conv4 = nn.Sequential(nn.Conv2d(8, 16, kernel_size=3, stride=1, padding=1), nn.ReLU())\n",
        "        self.conv5 = nn.Sequential(nn.Conv2d(16, 8, kernel_size=3, stride=1, padding=1), nn.ReLU())\n",
        "        self.conv6 = nn.Sequential(nn.Conv2d(8, 4, kernel_size=3, stride=1, padding=1), nn.ReLU())\n",
        "        self.conv7 = nn.Sequential(nn.Conv2d(4, 2, kernel_size=3, stride=1, padding=1), nn.ReLU())\n",
        "        self.conv8 = nn.Sequential(nn.Conv2d(2, 1, kernel_size=3, stride=1, padding=1), nn.ReLU())\n",
        "\n",
        "    def forward(self, x):\n",
        "        out1 = self.conv1(x)\n",
        "        out2 = self.conv2(out1)\n",
        "        out3 = self.conv3(out2)\n",
        "        out4 = self.conv4(out3)\n",
        "        out5 = self.conv5(out4) +out3\n",
        "        out6 = self.conv6(out5) +out2\n",
        "        out7 = self.conv7(out6) +out1\n",
        "        out8 = self.conv8(out7)\n",
        "        return out8\n",
        "\n",
        "        "
      ],
      "execution_count": 22,
      "outputs": []
    },
    {
      "cell_type": "markdown",
      "metadata": {
        "id": "NOilX0rBqJXn"
      },
      "source": [
        "#### <b>학습 데이터셋 불러오기</b>\n",
        "\n",
        "* 학습을 위해 MNIST 데이터셋을 불러옵니다."
      ]
    },
    {
      "cell_type": "code",
      "metadata": {
        "id": "HrhXIwtAqM7H",
        "colab": {
          "base_uri": "https://localhost:8080/"
        },
        "outputId": "dbdd6943-ceb8-416a-907c-b6d94d175055"
      },
      "source": [
        "transforms_train = transforms.Compose([\n",
        "    transforms.Resize(28),\n",
        "    transforms.ToTensor(),\n",
        "    transforms.Normalize([0.5], [0.5])\n",
        "])\n",
        "\n",
        "train_dataset = datasets.MNIST(root=\"./dataset\", train=True, download=True, transform=transforms_train)\n",
        "dataloader = torch.utils.data.DataLoader(train_dataset, batch_size=128, shuffle=True, num_workers=4)\n",
        "\n",
        "\n",
        "\n",
        "def mask(X,coords):\n",
        "  x0,y0,x1,y1 = coords\n",
        "  X[:,x0:x1,y0:y1] = 0\n",
        "  return X\n"
      ],
      "execution_count": 23,
      "outputs": [
        {
          "output_type": "stream",
          "name": "stderr",
          "text": [
            "/usr/local/lib/python3.8/dist-packages/torch/utils/data/dataloader.py:554: UserWarning: This DataLoader will create 4 worker processes in total. Our suggested max number of worker in current system is 2, which is smaller than what this DataLoader is going to create. Please be aware that excessive worker creation might get DataLoader running slow or even freeze, lower the worker number to avoid potential slowness/freeze if necessary.\n",
            "  warnings.warn(_create_warning_msg(\n"
          ]
        }
      ]
    },
    {
      "cell_type": "markdown",
      "metadata": {
        "id": "K54Z7PNIqTkO"
      },
      "source": [
        "#### <b>모델 학습 및 샘플링</b>\n",
        "\n",
        "* 학습을 위해 생성자와 판별자 모델을 초기화합니다.\n",
        "* 적절한 하이퍼 파라미터를 설정합니다."
      ]
    },
    {
      "cell_type": "code",
      "metadata": {
        "id": "tBZf0BmBaN7l"
      },
      "source": [
        "# 생성자(generator)와 판별자(discriminator) 초기화\n",
        "generator = Generator()\n",
        "\n",
        "generator.cuda()\n",
        "\n",
        "\n",
        "load_pretrained_models = False\n",
        "saved_epoch =3\n",
        "if load_pretrained_models:\n",
        "    generator.load_state_dict(torch.load('_saved_models/generator_' + str(saved_epoch) + '.pth'))\n",
        "# 손실 함수(loss function)\n",
        "MSELoss = torch.nn.L1Loss()\n",
        "MSELoss.cuda()\n",
        "\n",
        "# 학습률(learning rate) 설정\n",
        "lr = 0.0002\n",
        "\n",
        "# 생성자와 판별자를 위한 최적화 함수\n",
        "optimizer_G = torch.optim.Adam(generator.parameters(), lr=lr, betas=(0.5, 0.999))"
      ],
      "execution_count": 24,
      "outputs": []
    },
    {
      "cell_type": "markdown",
      "metadata": {
        "id": "F9ThAQIOt-74"
      },
      "source": [
        "* 모델을 학습하면서 주기적으로 샘플링하여 결과를 확인할 수 있습니다."
      ]
    },
    {
      "cell_type": "code",
      "metadata": {
        "id": "srQI5xI6ar-X"
      },
      "source": [
        "import time\n",
        "\n",
        "n_epochs = 1000 # 학습의 횟수(epoch) 설정\n",
        "sample_interval = 2000 # 몇 번의 배치(batch)마다 결과를 출력할 것인지 설정\n",
        "start_time = time.time()\n",
        "\n",
        "for epoch in range(n_epochs):\n",
        "    for i, (imgs, _) in enumerate(dataloader):\n",
        "\n",
        "        real_imgs = imgs.cuda()\n",
        "\n",
        "        masked_imgs = mask(real_imgs.clone(),(0,0,10,10))\n",
        "        \"\"\" 생성자(generator)를 학습합니다. \"\"\"\n",
        "        optimizer_G.zero_grad()\n",
        "\n",
        "        # 랜덤 노이즈(noise) 샘플링\n",
        "        # 이미지 생성\n",
        "        generated_imgs = generator(masked_imgs)\n",
        "\n",
        "        # 생성자(generator)의 손실(loss) 값 계산\n",
        "        g_loss = MSELoss(generated_imgs, real_imgs)\n",
        "\n",
        "        # 생성자(generator) 업데이트\n",
        "        g_loss.backward()\n",
        "        optimizer_G.step()\n",
        "        done = epoch * len(dataloader) + i\n",
        "        torch.save(generator.state_dict(), '_saved_models/generator_' + str(epoch) + '.pth')\n",
        "        if done % sample_interval == 0:\n",
        "            # 생성된 이미지 중에서 25개만 선택하여 5 X 5 격자 이미지에 출력\n",
        "            save_image(generated_imgs.data[:25], f\"{done}generated.png\", nrow=5, normalize=True)\n",
        "            save_image(masked_imgs.data[:25], f\"{done}mask.png\", nrow=5, normalize=True)\n",
        "            save_image(real_imgs.data[:25], f\"{done}real.png\", nrow=5, normalize=True)\n",
        "    # 하나의 epoch이 끝날 때마다 로그(log) 출력\n",
        "    print(f\"[Epoch {epoch}/{n_epochs}] [G loss: {g_loss.item():.6f}] [Elapsed time: {time.time() - start_time:.2f}s]\")"
      ],
      "execution_count": null,
      "outputs": []
    },
    {
      "cell_type": "markdown",
      "metadata": {
        "id": "dKhzqw6U8u-H"
      },
      "source": [
        "* 생성된 이미지 예시를 출력합니다."
      ]
    },
    {
      "cell_type": "code",
      "metadata": {
        "id": "FeC3eMGa8vc1"
      },
      "source": [
        "from IPython.display import Image\n",
        "\n",
        "Image('92000.png')"
      ],
      "execution_count": null,
      "outputs": []
    }
  ]
}